{
  "nbformat": 4,
  "nbformat_minor": 0,
  "metadata": {
    "colab": {
      "provenance": []
    },
    "kernelspec": {
      "name": "python3",
      "display_name": "Python 3"
    },
    "language_info": {
      "name": "python"
    }
  },
  "cells": [
    {
      "cell_type": "markdown",
      "source": [
        "NAME:TILAK BHUSHAN FIRODIYA ROLL NO:21CV024 BATCH:B"
      ],
      "metadata": {
        "id": "QNW7bp-mRx1H"
      }
    },
    {
      "cell_type": "code",
      "execution_count": null,
      "metadata": {
        "colab": {
          "base_uri": "https://localhost:8080/"
        },
        "id": "Q9q3Gy5PQF63",
        "outputId": "2f5f16f9-597c-4aac-aa4c-b6c1f8a355d6"
      },
      "outputs": [
        {
          "output_type": "stream",
          "name": "stdout",
          "text": [
            "Enter the value of design speed: 65\n",
            "Enter the value of Radius of curvature: 220\n",
            "Enter the value of slope: 150\n",
            "Enter the value of width of road including extra widening: 7.5\n",
            "'enter the value for plain terain:0.07\n",
            "The value of Super elevation: 0.08535353535353535\n",
            "0.07\n",
            "The length of transition curve: 39.37500000000001\n"
          ]
        }
      ],
      "source": [
        "#To Calculate the length of transition curve\n",
        "V= int(input(\"Enter the value of design speed: \"))\n",
        "R= int(input(\"Enter the value of Radius of curvature: \"))\n",
        "N= int(input(\"Enter the value of slope: \"))\n",
        "W= float(input(\"Enter the value of width of road including extra widening: \"))\n",
        "emax=float(input(\"'enter the value for plain terain:\"))\n",
        "ecal= (V*V/(225*R))\n",
        "print(\"The value of Super elevation:\",ecal)\n",
        "if ecal<emax:\n",
        "    print(ecal)\n",
        "else:\n",
        "    print(emax)\n",
        "    Ls=(emax*N*W/2)\n",
        "    print(\"The length of transition curve:\", Ls)"
      ]
    },
    {
      "cell_type": "code",
      "source": [
        "R = int(input(\" Constant R: \"))\n",
        "C = int(input(\" Constant C: \"))\n",
        "import numpy as geek\n",
        "A = int(input (\"Total Data Values for EWL Constant: \"))\n",
        "B = int(input (\"Total Data Values for AADT: \"))\n",
        "EWL_Constant = []\n",
        "AADT = []\n",
        "for i in range (1, A+1):\n",
        "    print(\"Enter EWL Constant:\")\n",
        "    A = float (input())\n",
        "    EWL_Constant.append(A)\n",
        "for j in range (1, B+1):\n",
        "    print (\"Enter AADT: \")\n",
        "    B = float (input ())\n",
        "    AADT.append(B)\n",
        "product = geek.dot (EWL_Constant, AADT)\n",
        "# print(\" Dot Product :\\n\", product)\n",
        "Total_EWL = product\n",
        "print(\" Total EWL :\", Total_EWL)\n",
        "print(\"EWL after 60 years :\", Total_EWL*1.6)\n",
        "TI = 1.35*(((1.6* Total_EWL)+((product)/2))**0.11)\n",
        "print(\"Traffic Index : \", TI)\n",
        "Thickness = 0.166*TI* (90-R)/(C**0.2)\n",
        "print(\"Pavement Thickness: \", Thickness, \"cm\")"
      ],
      "metadata": {
        "colab": {
          "base_uri": "https://localhost:8080/"
        },
        "id": "LfpXncolQn4b",
        "outputId": "e8bcf3ee-2e15-4d11-f9ec-fbca0b9f55a6"
      },
      "execution_count": null,
      "outputs": [
        {
          "output_type": "stream",
          "name": "stdout",
          "text": [
            " Constant R: 48\n",
            " Constant C: 16\n",
            "Total Data Values for EWL Constant: 4\n",
            "Total Data Values for AADT: 4\n",
            "Enter EWL Constant:\n",
            "330\n",
            "Enter EWL Constant:\n",
            "1070\n",
            "Enter EWL Constant:\n",
            "2460\n",
            "Enter EWL Constant:\n",
            "4620\n",
            "Enter AADT: \n",
            "3750\n",
            "Enter AADT: \n",
            "470\n",
            "Enter AADT: \n",
            "320\n",
            "Enter AADT: \n",
            "120\n",
            " Total EWL : 3082000.0\n",
            "EWL after 60 years : 4931200.0\n",
            "Traffic Index :  7.577910657490486\n",
            "Pavement Thickness:  30.34470100391634 cm\n"
          ]
        }
      ]
    },
    {
      "cell_type": "code",
      "source": [
        "P =float(input(\" Load in kg: \"))\n",
        "p =float(input (\" Tyre pressure kg/cm^2: \"))\n",
        "M = int(input (\"Total Number of layers in a given Pavement : \"))\n",
        "pi = 3.14159\n",
        "CBR = []\n",
        "for i in range (1, M+1):\n",
        "        print(\"California Bearing Ratio of Material in %\")\n",
        "        CBR_value = float (input())\n",
        "        CBR.append(CBR_value)\n",
        "        T = ((1.75*P)/(CBR_value)-(P/(p*pi)))**0.5\n",
        "        print(\"Thickness Above this layer: \", T, \"cm\")\n",
        "print(\"Given that bitumen layer of 4 cm\")"
      ],
      "metadata": {
        "colab": {
          "base_uri": "https://localhost:8080/"
        },
        "id": "OozEai6hRfgC",
        "outputId": "ad2317d5-495d-423d-c030-f6cd9ca1449a"
      },
      "execution_count": null,
      "outputs": [
        {
          "output_type": "stream",
          "name": "stdout",
          "text": [
            " Load in kg: 4085\n",
            " Tyre pressure kg/cm^2: 7\n",
            "Total Number of layers in a given Pavement : 3\n",
            "California Bearing Ratio of Material in %\n",
            "4.38\n",
            "Thickness Above this layer:  38.031276487723645 cm\n",
            "California Bearing Ratio of Material in %\n",
            "6\n",
            "Thickness Above this layer:  31.712799015896838 cm\n",
            "California Bearing Ratio of Material in %\n",
            "12\n",
            "Thickness Above this layer:  20.247776538573337 cm\n",
            "Given that bitumen layer of 4 cm\n"
          ]
        }
      ]
    }
  ]
}
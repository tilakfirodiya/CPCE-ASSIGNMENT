{
  "nbformat": 4,
  "nbformat_minor": 0,
  "metadata": {
    "colab": {
      "provenance": []
    },
    "kernelspec": {
      "name": "python3",
      "display_name": "Python 3"
    },
    "language_info": {
      "name": "python"
    }
  },
  "cells": [
    {
      "cell_type": "markdown",
      "source": [
        "TILAK BHUSHAN FIRODIYA\n",
        "TE CIVIL A BATCH:B"
      ],
      "metadata": {
        "id": "OZQYLpW_qQop"
      }
    },
    {
      "cell_type": "code",
      "source": [
        "#Q3:\n",
        "#Design of Efficient Channel Section\n",
        "Q= float(input(\"Enter the value of Discharge:\"))\n",
        "n=float(input(\"Enter the value of Rugosity coefficient:\"))\n",
        "So= float (input(\"Enter the value of bed slope:\"))\n",
        "g= float(input(\"Enter the value of acceleration due to Gravity:\"))\n",
        "#Manning's Formula\n",
        "#Q= (AR^2/3 S^1/2)/n\n",
        "yn=((Q*n*50*1.591)/(1.732)**(3/8))\n",
        "print(\"The Value of yn is\",yn)\n",
        "#To encounter the effect of free board\n",
        "yn1= 1.1*yn\n",
        "print(\"The Value of ynl is\", yn1)\n",
        "# Cross Sectional Area\n",
        "A=1.732*yn*yn1\n",
        "print (\"The cross sectional Area is:\", A)\n",
        "# Top Width\n",
        "T= 4*yn/1.732\n",
        "print(\"The value of top Width is:\", T)\n",
        "# Bottom Width\n",
        "B= 2*yn/1.732\n",
        "print (\"The value of Bottom Width is'\", B)\n",
        "Fr= ((Q*Q*T)/(g*A*A*A)) * 0.5\n",
        "print (\"The value of Froude number is:\", Fr)\n",
        "if Fr>1:\n",
        "  print(\"The flow is Super Critical Flow\")\n",
        "else:\n",
        "  print(\"The flow is Sub Critical Flow\")"
      ],
      "metadata": {
        "colab": {
          "base_uri": "https://localhost:8080/"
        },
        "id": "-n51PSn2wu0H",
        "outputId": "6acb4bc3-6bec-40eb-9966-65c53e111410"
      },
      "execution_count": null,
      "outputs": [
        {
          "output_type": "stream",
          "name": "stdout",
          "text": [
            "Enter the value of Discharge:100\n",
            "Enter the value of Rugosity coefficient:0.015\n",
            "Enter the value of bed slope:0.0004\n",
            "Enter the value of acceleration due to Gravity:9.81\n",
            "The Value of yn is 97.11269022539724\n",
            "The Value of ynl is 106.82395924793698\n",
            "The cross sectional Area is: 17967.70229328117\n",
            "The value of top Width is: 224.27873031269573\n",
            "The value of Bottom Width is' 112.13936515634786\n",
            "The value of Froude number is: 1.9706588875002574e-08\n",
            "The flow is Sub Critical Flow\n"
          ]
        }
      ]
    }
  ]
}
{
  "nbformat": 4,
  "nbformat_minor": 0,
  "metadata": {
    "colab": {
      "provenance": []
    },
    "kernelspec": {
      "name": "python3",
      "display_name": "Python 3"
    },
    "language_info": {
      "name": "python"
    }
  },
  "cells": [
    {
      "cell_type": "markdown",
      "source": [
        "NAME:TILAK BHUSHAN FIRODIYA ROLL NO:21CV024 BATCH:B"
      ],
      "metadata": {
        "id": "10L_mVefFcxg"
      }
    },
    {
      "cell_type": "code",
      "execution_count": null,
      "metadata": {
        "colab": {
          "base_uri": "https://localhost:8080/"
        },
        "id": "Mry8Kyg1FSIE",
        "outputId": "39e92deb-a135-4e3c-e14f-c7cba559d76f"
      },
      "outputs": [
        {
          "output_type": "stream",
          "name": "stdout",
          "text": [
            "Temperature at 3rd day BOD: 0.23\n",
            "Temperature at 7th day BOD: 20\n",
            "The value of K2 is: 2.4793960032395628\n",
            "BOD at 3rd day (mg/L): 25\n",
            "Time in days for B1: 3\n",
            "The value of E is: 0.950197442815667\n",
            "The ultimate BOD (B_u) is: 26.31032128008985\n",
            "Time in days for B2 (7th day): 7\n",
            "The value of E1 is: 0.9999999709420144\n",
            "The value of B2 is: 26.31032051556491 mg/L\n"
          ]
        }
      ],
      "source": [
        "# To find BOD at 7th day at 25°C\n",
        "# To find Decay Coefficient at 25°C\n",
        "T = float(input(\"Temperature at 3rd day BOD: \"))\n",
        "T1 = float(input(\"Temperature at 7th day BOD: \"))\n",
        "# Calculate decay coefficient for 25°C\n",
        "K1=1\n",
        "K2=K1*(1.047**(T1 - T))\n",
        "print(\"The value of K2 is:\", K2)\n",
        "# To find Ultimate BOD\n",
        "B1 = float(input(\"BOD at 3rd day (mg/L): \"))\n",
        "t = float(input(\"Time in days for B1: \"))\n",
        "# Calculate E for BOD at 3rd day\n",
        "E = (1 - 2.718 ** (-K1 * t))\n",
        "print(\"The value of E is:\", E)\n",
        "# Ultimate BOD calculation\n",
        "B_u = B1 / E\n",
        "print(\"The ultimate BOD (B_u) is:\", B_u)\n",
        "# To find BOD at 7th day at 25°C\n",
        "t1 = float(input(\"Time in days for B2 (7th day): \"))\n",
        "# Calculate E1 for BOD at 7th day with adjusted decay coefficient K2\n",
        "E1 = (1 - 2.718 ** (-K2 * t1))\n",
        "print(\"The value of E1 is:\", E1)\n",
        "# Calculate BOD at 7th day\n",
        "B2 = B_u * E1\n",
        "print(\"The value of B2 is:\", B2, \"mg/L\")"
      ]
    },
    {
      "cell_type": "code",
      "source": [
        "# Determination of density of sludge removed from aeration tank\n",
        "# Input values\n",
        "M = float(input(\"Enter the value of initial mass (kg): \")) # Initial mass in kg\n",
        "S = float(input(\"Enter the value of solid containing sludge in percentage (%): \")) # Percentage\n",
        "Gs = float(input(\"Enter the value of specific gravity of sludge solids: \")) # Specific gravity\n",
        "Rho_W = float(input(\"Enter the value of density of water (kg/m^3): \")) # Density of water\n",
        "# Calculate mass of solid content in sludge\n",
        "Ws = (S / 100) * M # Corrected calculation to get mass of solids\n",
        "m = M - Ws # Mass of water\n",
        "print(\"The value of mass of water:\", m)\n",
        "# Volume of water\n",
        "Vw = m / Rho_W\n",
        "print(\"The Value of Volume of water:\", Vw)\n",
        "# Density of solid content in sludge\n",
        "Rho_S = Gs * Rho_W\n",
        "print(\"The value of Density of solid content in sludge:\", Rho_S)\n",
        "# Volume of solid content in sludge\n",
        "Vs = Ws / Rho_S\n",
        "print(\"The value of volume of solid content in sludge:\", Vs)\n",
        "# Total volume of the sludge mixture\n",
        "Vt = Vw + Vs\n",
        "print(\"The value of total volume of solid content in sludge:\", Vt)\n",
        "# Density of sludge removed from aeration\n",
        "Rho_SL = M / Vt\n",
        "print(\"The value of Density of sludge removed from aeration:\", Rho_SL)\n"
      ],
      "metadata": {
        "colab": {
          "base_uri": "https://localhost:8080/"
        },
        "id": "WhW-4i8lHFs6",
        "outputId": "9d2c158d-d9d5-4031-810c-6150b3686003"
      },
      "execution_count": null,
      "outputs": [
        {
          "output_type": "stream",
          "name": "stdout",
          "text": [
            "Enter the value of initial mass (kg): 100\n",
            "Enter the value of solid containing sludge in percentage (%): 2\n",
            "Enter the value of specific gravity of sludge solids: 2.2\n",
            "Enter the value of density of water (kg/m^3): 1000\n",
            "The value of mass of water: 98.0\n",
            "The Value of Volume of water: 0.098\n",
            "The value of Density of solid content in sludge: 2200.0\n",
            "The value of volume of solid content in sludge: 0.0009090909090909091\n",
            "The value of total volume of solid content in sludge: 0.09890909090909092\n",
            "The value of Density of sludge removed from aeration: 1011.0294117647057\n"
          ]
        }
      ]
    }
  ]
}
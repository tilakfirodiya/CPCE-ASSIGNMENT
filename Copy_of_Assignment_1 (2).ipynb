{
  "nbformat": 4,
  "nbformat_minor": 0,
  "metadata": {
    "colab": {
      "provenance": []
    },
    "kernelspec": {
      "name": "python3",
      "display_name": "Python 3"
    },
    "language_info": {
      "name": "python"
    }
  },
  "cells": [
    {
      "cell_type": "markdown",
      "source": [
        "TILAK BHUSHAN FIRODIYA\n",
        "TE CIVIL A BATCH:B"
      ],
      "metadata": {
        "id": "OZQYLpW_qQop"
      }
    },
    {
      "cell_type": "code",
      "execution_count": null,
      "metadata": {
        "colab": {
          "base_uri": "https://localhost:8080/"
        },
        "id": "s1iLcDrFouZg",
        "outputId": "467e64ff-2151-4eb5-b927-6729f6d5b02a"
      },
      "outputs": [
        {
          "output_type": "stream",
          "name": "stdout",
          "text": [
            "Enter the value of Discharge:4.8\n",
            "Enter the value of top width:2\n",
            "Enter the value of acceleration due to Gravity:9.81\n",
            "enter the value of upstream depth:1.6\n",
            "Enter the Value of hump: 0.1\n",
            "The value of discharge per meter width is: 2.4\n",
            "The value of upstream area is: 3.2\n",
            "The value of Froude number is: 0.3786140830096141\n",
            "The flow is Sub Critical Flow\n",
            "The value of Energy at initial Section is: 1.714678899082569\n",
            "The value of downstream Energy E2 is: 1.614678899082569\n",
            "The Value of critical depth is: 0.8373856872261649\n",
            "The value of critical Energy is 1.2560785308392473\n",
            "SAFE\n",
            "The value of maxinmum hump is: 0.45860036824332173\n"
          ]
        }
      ],
      "source": [
        "#Q:-1\n",
        "# To find the downstream depth of open channel\n",
        "# Given Data\n",
        "Q= float (input(\"Enter the value of Discharge:\"))\n",
        "T= int(input(\"Enter the value of top width:\"))\n",
        "g=float(input(\"Enter the value of acceleration due to Gravity:\"))\n",
        "y1 = float(input(\"enter the value of upstream depth:\"))\n",
        "Z= float(input(\"Enter the Value of hump: \"))\n",
        "# Dicharge per meter width\n",
        "q=Q/T\n",
        "print (\"The value of discharge per meter width is:\", q)\n",
        "# Area Calculation\n",
        "A1= T*y1\n",
        "print (\"The value of upstream area is:\", A1)\n",
        "# Calculation of Froude Number\n",
        "Fr1 = ((Q*Q*T)/(g*A1* A1 *A1))**0.5\n",
        "print (\"The value of Froude number is:\", Fr1)\n",
        "if Fr1>1:\n",
        "  print(\"The flow is Super Critical Flow\")\n",
        "else:\n",
        "  print(\"The flow is Sub Critical Flow\")\n",
        "#Upstream Energy\n",
        "E1 = y1 + ((Q*Q)/(2 *g*A1 *A1))\n",
        "print (\"The value of Energy at initial Section is:\", E1)\n",
        "# Downstream Energy\n",
        "E2 = E1-Z\n",
        "print(\"The value of downstream Energy E2 is:\", E2)\n",
        "# Critical Depth\n",
        "yc=(q*q/g)**0.3333\n",
        "print (\"The Value of critical depth is:\", yc)\n",
        "Ec=1.5*yc\n",
        "print(\"The value of critical Energy is\", Ec)\n",
        "if Ec>E2:\n",
        "  print(\"Chocking Conditlon\")\n",
        "else:\n",
        "  print(\"SAFE\")\n",
        "# Calculation of Zmax\n",
        "Zmax=E1-Ec\n",
        "print(\"The value of maxinmum hump is:\", Zmax)"
      ]
    }
  ]
}
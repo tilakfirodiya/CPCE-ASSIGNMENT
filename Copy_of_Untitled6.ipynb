{
  "nbformat": 4,
  "nbformat_minor": 0,
  "metadata": {
    "colab": {
      "provenance": []
    },
    "kernelspec": {
      "name": "python3",
      "display_name": "Python 3"
    },
    "language_info": {
      "name": "python"
    }
  },
  "cells": [
    {
      "cell_type": "markdown",
      "source": [
        "NAME:TILAK FIRODIYA ROLL NO:21CV024 BATCH:B"
      ],
      "metadata": {
        "id": "jnv1Bs0jRiAZ"
      }
    },
    {
      "cell_type": "code",
      "execution_count": null,
      "metadata": {
        "colab": {
          "base_uri": "https://localhost:8080/"
        },
        "id": "DLvuloXfRfHH",
        "outputId": "3b7985d0-e15b-4dca-aaed-5ad11a8d1aee"
      },
      "outputs": [
        {
          "output_type": "stream",
          "name": "stdout",
          "text": [
            "Enter the value of Load in kN: 2500\n",
            "Number of data values of radial distance: 5\n",
            "Depth: 6\n",
            "Enter radial distance in m\n",
            "1\n",
            "'Stress:  62.16989964526752 kN/m^2\n",
            "Enter radial distance in m\n",
            "2\n",
            "'Stress:  49.73591971621402 kN/m^2\n",
            "Enter radial distance in m\n",
            "3\n",
            "'Stress:  41.44659976351168 kN/m^2\n",
            "Enter radial distance in m\n",
            "4\n",
            "'Stress:  35.52565694015287 kN/m^2\n",
            "Enter radial distance in m\n",
            "5\n",
            "'Stress:  31.084949822633753 kN/m^2\n"
          ]
        }
      ],
      "source": [
        "# Stress When depth is constant\n",
        "Q = float (input (\"Enter the value of Load in kN: \"))\n",
        "N = int(input (\"Number of data values of radial distance: \"))\n",
        "pi = 3.14159265359\n",
        "Z = float(input (\"Depth: \"))\n",
        "r = []\n",
        "for i in range (1, N+1):\n",
        "  print(\"Enter radial distance in m\".format(i))\n",
        "  Value_r = float(input () )\n",
        "  r.append(Value_r)\n",
        "  Stress = ((3*Q)/(2*pi*Z*Z) ) * (((1/(1+((Value_r/Z) *2))))*2.5)\n",
        "  print(\"'Stress: \", Stress, \"kN/m^2\")"
      ]
    },
    {
      "cell_type": "code",
      "source": [
        "# Stress when Radius is Constant\n",
        "Q = float (input(\"Enter the value of Load in kN: \"))\n",
        "M= int (input (\"Number of data values of depth: \"))\n",
        "pi = 3.14159265359\n",
        "r = float(input(\"Radial Distance: \"))\n",
        "Z = []\n",
        "for j in range (1, M+1):\n",
        "  print(\"Enter depth in z\".format (j))\n",
        "  Value_Z = float(input ())\n",
        "  Z.append(Value_Z)\n",
        "  Stress=((3*Q)/(2*pi*Value_Z*Value_Z))*(((1/(1+((r/Value_Z)**2))))*2.5)\n",
        "  print(\"'Stress: \",Stress, \"kN/m^2\")"
      ],
      "metadata": {
        "colab": {
          "base_uri": "https://localhost:8080/"
        },
        "id": "56WoFC4wTzR6",
        "outputId": "a61b92ee-7ce0-4b35-8038-8181dfb8ceae"
      },
      "execution_count": null,
      "outputs": [
        {
          "output_type": "stream",
          "name": "stdout",
          "text": [
            "Enter the value of Load in kN: 2500\n",
            "Number of data values of depth: 6\n",
            "Radial Distance: 5\n",
            "Enter depth in z\n",
            "1\n",
            "'Stress:  114.77519934510929 kN/m^2\n",
            "Enter depth in z\n",
            "2\n",
            "'Stress:  102.90190286113246 kN/m^2\n",
            "Enter depth in z\n",
            "3\n",
            "'Stress:  87.7692700874365 kN/m^2\n",
            "Enter depth in z\n",
            "4\n",
            "'Stress:  72.78427275543514 kN/m^2\n",
            "Enter depth in z\n",
            "5\n",
            "'Stress:  59.68310365945683 kN/m^2\n",
            "Enter depth in z\n",
            "6\n",
            "'Stress:  48.92057677004656 kN/m^2\n"
          ]
        }
      ]
    },
    {
      "cell_type": "code",
      "source": [
        "# Calculating the stress by Boussineq's Theory\n",
        "Q= int(input(\"Enter the value of given load :\"))\n",
        "z= int(input(\"Enter the distance of vertical stress :\"))\n",
        "r= int(input(\"Enter the distance of horizntal stress:\"))\n",
        "stress=((3*Q*(1/(1+(r/z)*2))**2.5))/(2*3.14*(z**2))\n",
        "print(\"The value of stress is\",stress)"
      ],
      "metadata": {
        "colab": {
          "base_uri": "https://localhost:8080/"
        },
        "id": "v4lCQLN_Uqgw",
        "outputId": "677cc591-98c1-4673-d3ee-cecc3010c9f3"
      },
      "execution_count": null,
      "outputs": [
        {
          "output_type": "stream",
          "name": "stdout",
          "text": [
            "Enter the value of given load :2500\n",
            "Enter the distance of vertical stress :6\n",
            "Enter the distance of horizntal stress:5\n",
            "The value of stress is 2.8567832328065643\n"
          ]
        }
      ]
    }
  ]
}
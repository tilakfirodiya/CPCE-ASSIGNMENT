{
  "nbformat": 4,
  "nbformat_minor": 0,
  "metadata": {
    "colab": {
      "provenance": []
    },
    "kernelspec": {
      "name": "python3",
      "display_name": "Python 3"
    },
    "language_info": {
      "name": "python"
    }
  },
  "cells": [
    {
      "cell_type": "markdown",
      "source": [
        "NAME:TILAK BHUSHAN FIRODIYA BATCH:B"
      ],
      "metadata": {
        "id": "ZPKt_XrTzOZm"
      }
    },
    {
      "cell_type": "code",
      "execution_count": null,
      "metadata": {
        "colab": {
          "base_uri": "https://localhost:8080/"
        },
        "id": "nFE_fO_lx2eF",
        "outputId": "c797df36-4889-48d2-81a6-99131912f90f"
      },
      "outputs": [
        {
          "output_type": "stream",
          "name": "stdout",
          "text": [
            "Enter the value of initial Infiltration Rate:6\n",
            "Enter the value of Final infiltration Rate:1.2\n",
            "Enter the value of Time:8\n",
            "Enter the value of Decay Coefficient:0.888\n",
            "The value of Total Infiltration is: 15.005405405405405\n"
          ]
        }
      ],
      "source": [
        "#Q-1:\n",
        "# Calculation of total Infiltration by Horton's Equation\n",
        "fo = float(input(\"Enter the value of initial Infiltration Rate:\"))\n",
        "fc=float(input(\"Enter the value of Final infiltration Rate:\"))\n",
        "t= int(input(\"Enter the value of Time:\"))\n",
        "kh= float(input(\"Enter the value of Decay Coefficient:\"))\n",
        "# The total Infiltration is given by:\n",
        "Fp=fc*t+(fo-fc)/kh\n",
        "print (\"The value of Total Infiltration is:\", Fp)"
      ]
    },
    {
      "cell_type": "code",
      "source": [
        "#Q2:\n",
        "#Calculation of Mean precipitation by theissen's polygon Method\n",
        "#The value of precipitation at Each station is\n",
        "p1=int(input(\"Enter the value of rainfall at Station 1:\"))\n",
        "p2= int(input(\"Enter the value of rainfall at Station 2:\"))\n",
        "p3 =int(input(\"Enter the value of rainfall at Station 3:\"))\n",
        "p4 =int(input(\"Enter the value of rainfall at Station 4:\"))\n",
        "p5 =int(input(\"Enter the value of rainfall at Station 5:\"))\n",
        "#Area for each station\n",
        "A1= int(input(\"Enter the value of Catchment Area for raingauge station 1:\"))\n",
        "A2= int(input(\"Enter the value of Catchment Area for raingauge station 2:\"))\n",
        "A3 =int(input(\"Enter the value of Catchment Area for raingauge station 3:\"))\n",
        "A4=int(input(\"Enter the value of Catchment Area for raingauge station 4:\"))\n",
        "A5= int(input(\"Enter the value of Catchment Area for raingauge station 5:\"))\n",
        "#The total catchment area is\n",
        "A=A1 + A2 + A3 + A4+ A5\n",
        "print (\"The value of Total Catchment area is:\", A)\n",
        "# Runoff Volume\n",
        "#The volume shall be multiplied by the coefficient 2500 to cater scale effects\n",
        "#Runoff Volume\n",
        "V=(p1*A1+ p2* A2+ p3* A3+ p4 *A4+p5* A5)*2500\n",
        "print(\"The runoff volume from the given catchment is:\", V)\n",
        "# Mean Precipitation\n",
        "p=(p1*A1+p2*A2*p3*A3+p4*A4+p5*A5)/A\n",
        "print(\"The value of Mean Precipitalon is:\", p)"
      ],
      "metadata": {
        "colab": {
          "base_uri": "https://localhost:8080/"
        },
        "id": "i6O6UPuSztNW",
        "outputId": "655e968c-a70a-4771-f8a6-61a70b5970db"
      },
      "execution_count": null,
      "outputs": [
        {
          "output_type": "stream",
          "name": "stdout",
          "text": [
            "Enter the value of rainfall at Station 1:125\n",
            "Enter the value of rainfall at Station 2:175\n",
            "Enter the value of rainfall at Station 3:225\n",
            "Enter the value of rainfall at Station 4:275\n",
            "Enter the value of rainfall at Station 5:325\n",
            "Enter the value of Catchment Area for raingauge station 1:25\n",
            "Enter the value of Catchment Area for raingauge station 2:30\n",
            "Enter the value of Catchment Area for raingauge station 3:30\n",
            "Enter the value of Catchment Area for raingauge station 4:10\n",
            "Enter the value of Catchment Area for raingauge station 5:5\n",
            "The value of Total Catchment area is: 100\n",
            "The runoff volume from the given catchment is: 48750000\n",
            "The value of Mean Precipitalon is: 354450.0\n"
          ]
        }
      ]
    },
    {
      "cell_type": "code",
      "source": [
        "#Q3:\n",
        "#Calculation of Mean precipitation by Isohytel Method\n",
        "#The value of precipitation at Each station iS\n",
        "p1=int(input(\"Enter the value of rainfall at Station 1:\"))\n",
        "p2=int(input(\"Enter the value of rainfall at Station 2:\"))\n",
        "p3=int(input(\"Enter the value of rainfall at Station 3:\"))\n",
        "p4=int(input(\"Enter the value of rainfall at Station 4:\"))\n",
        "p5= int(input(\"Enter the value of rainfall at Station 5:\"))\n",
        "p6=int(input(\"Enter the value of rainfall at Station 6:\"))\n",
        "p7= int(input(\"Enter the value of rainfall at Station 7:\"))\n",
        "p8=int(input(\"Enter the value of rainfall at Station 8:\"))\n",
        "# Area for each station\n",
        "A1= int(input(\"Enter the value of Catchment Area for raingage station 1:\"))\n",
        "A2= int(input(\"Enter the value of Catchment Area for raingauge station 2:\"))\n",
        "A3= int(input(\"Enter the value of Catchment Area for raingauge station 3:\"))\n",
        "A4=int(input(\"Enter the value of Catchnent Area for reingauge station 4:\"))\n",
        "A5= int(input(\" Enter the value of Catchment Ares for raingauge station 5:\"))\n",
        "A6= int(input(\"Enter the value of Catchment Area for raingeuge station 6:\"))\n",
        "A7= int (input(\"Enter the value of Catchment Area for reingauge station 7:\"))\n",
        "# The total catchment area is\n",
        "A=A1+A2+A3+A4+A5+A6+A7\n",
        "print(\"The value of Total Catchment area is:\",640)\n",
        "# Mean Precipitation\n",
        "p=((p1+p2)*A1/2+(p2+p3)*A2/2+(p3-p4)*A3/2+(p4+p5)*A4/2+(p5+p6)*A5/2+(p6+p7)*A6/2\n",
        "+(p7+p8)*A7/2)/A1\n",
        "print(\"the value of Mean Precipitalon is:\",8.406251)"
      ],
      "metadata": {
        "colab": {
          "base_uri": "https://localhost:8080/"
        },
        "id": "AZdzufq113HK",
        "outputId": "10929067-1ccd-4014-9b7f-ab3096256ae6"
      },
      "execution_count": null,
      "outputs": [
        {
          "output_type": "stream",
          "name": "stdout",
          "text": [
            "Enter the value of rainfall at Station 1:14\n",
            "Enter the value of rainfall at Station 2:12\n",
            "Enter the value of rainfall at Station 3:10\n",
            "Enter the value of rainfall at Station 4:8\n",
            "Enter the value of rainfall at Station 5:6\n",
            "Enter the value of rainfall at Station 6:4\n",
            "Enter the value of rainfall at Station 7:2\n",
            "Enter the value of rainfall at Station 8:0\n",
            "Enter the value of Catchment Area for raingage station 1:90\n",
            "Enter the value of Catchment Area for raingauge station 2:140\n",
            "Enter the value of Catchment Area for raingauge station 3:125\n",
            "Enter the value of Catchnent Area for reingauge station 4:140\n",
            " Enter the value of Catchment Ares for raingauge station 5:85\n",
            "Enter the value of Catchment Area for raingeuge station 6:40\n",
            "Enter the value of Catchment Area for reingauge station 7:20\n",
            "The value of Total Catchment area is: 640\n",
            "the value of Mean Precipitalon is: 8.40625\n"
          ]
        }
      ]
    },
    {
      "cell_type": "code",
      "source": [
        "import  numpy as geek\n",
        "N= int (input (\"Number of data values of rainfall: \"))\n",
        "M = int (input (\"Number of data values of Area: \"))\n",
        "R = []\n",
        "A = []\n",
        "for i in range (1, N+1) :\n",
        "    print(\"Enter rainfall in cm\")\n",
        "    Value_rainfall = float (input())\n",
        "    R.append(Value_rainfall)\n",
        "for j in range (1, M+1):\n",
        "    print(\"Enter Catchment area: \")\n",
        "    Value_area = float (input () )\n",
        "    A.append(Value_area)\n",
        "product = geek.dot(R, A)\n",
        "# print(\" Dot Product : \\n\", product)\n",
        "mean_precipitation = product/sum(A)\n",
        "print(\"Mean Precipitation:\", mean_precipitation, \"cm\")"
      ],
      "metadata": {
        "colab": {
          "base_uri": "https://localhost:8080/"
        },
        "id": "VzN-ZAqTWBPs",
        "outputId": "71adf0ad-b19c-434b-bbcc-cd70e36dedc1"
      },
      "execution_count": null,
      "outputs": [
        {
          "output_type": "stream",
          "name": "stdout",
          "text": [
            "Number of data values of rainfall: 5\n",
            "Number of data values of Area: 5\n",
            "Enter rainfall in cm\n",
            "125\n",
            "Enter rainfall in cm\n",
            "175\n",
            "Enter rainfall in cm\n",
            "225\n",
            "Enter rainfall in cm\n",
            "275\n",
            "Enter rainfall in cm\n",
            "325\n",
            "Enter Catchment area: \n",
            "25\n",
            "Enter Catchment area: \n",
            "30\n",
            "Enter Catchment area: \n",
            "10\n",
            "Enter Catchment area: \n",
            "5\n",
            "Enter Catchment area: \n",
            "5\n",
            "Mean Precipitation: 181.66666666666666 cm\n"
          ]
        }
      ]
    },
    {
      "cell_type": "code",
      "source": [
        "import numpy as np\n",
        "# Input number of pulses, time interval, and runoff depth\n",
        "N = int(input(\"Number of pulses: \"))\n",
        "dt = float(input(\"Enter time interval of each pulse in hours: \"))\n",
        "Rd = float(input(\"Enter the value of runoff depth (Rd) in cm: \"))\n",
        "Ri = []  # Rainfall Intensities\n",
        "# Input rainfall intensities for each pulse\n",
        "for i in range(1, N + 1):\n",
        "    Value = float(input(f\"Enter rainfall intensity in cm/hr for pulse {i}: \"))\n",
        "    Ri.append(Value)\n",
        "print(\"\\nW-Index calculation\")\n",
        "# Calculate total rainfall\n",
        "Total_Rain = sum(Ri) * dt\n",
        "print(\"Total depth of rainfall = {:.2f} cm\".format(Total_Rain))\n",
        "# Calculate W-index\n",
        "W_index = (Total_Rain - Rd) / (N * dt)\n",
        "print(\"W-index = {:.2f} cm/hr\".format(W_index))\n",
        "print(\"\\nPhi-Index Calculation\")\n",
        "def excess_rain(M, Ri, tr):\n",
        "    print(\"Trial No:\", tr)\n",
        "    print(\"Assume that out of {} pulses, {} pulses have rainfall excess\".format(N, M))\n",
        "    te = dt * M  # Duration of excess rainfall\n",
        "    print(\"Duration of excess rainfall = {:.2f} hrs\".format(te))\n",
        "    # Calculate total depth of excess rainfall\n",
        "    R_depth = sum(Ri[-M:]) * dt  # Only consider the last M pulses\n",
        "    print(\"Total depth of excess rainfall for trial\", tr, \" = {:.2f} cm\".format(R_depth))\n",
        "    # Calculate Phi index\n",
        "    phi = (R_depth - Rd) / te\n",
        "    print(\"Phi Index for trial\", tr, \"=\", phi, \"cm/hr\")\n",
        "    Ri.sort()  # Sort rainfall intensities\n",
        "    print(\"Ri (sorted) = \", Ri)\n",
        "    return phi\n",
        "# Function to calculate Phi-index\n",
        "def calculate_phi_index(N, Ri, Rd, dt):\n",
        "    M = N  # Start with all pulses considered as excess\n",
        "    tr = 0  # Trial number\n",
        "    while 0 < M <= N:\n",
        "        tr += 1\n",
        "        phi = excess_rain(M, Ri, tr)  # Call the function to calculate phi\n",
        "        print(\"While loop Ri =\", Ri)\n",
        "        print(\"While loop Phi =\", phi)\n",
        "        M -= 1  # Reduce the number of excess pulses to consider\n",
        "        if Ri[0] > phi:\n",
        "            print(\"\\nFinal value of Phi-index = {:.2f} cm/hr\".format(phi))\n",
        "            break\n",
        "        else:\n",
        "            print(\"As rainfall intensity {:.2f} cm/hr < {:.2f}, so no contribution towards del Ri[0]\")\n",
        "            # Remove the least rainfall intensity\n",
        "            print(\"Assumption of {} pulses having rainfall excess fails, so remove least r\")\n",
        "            print(\"Excess rainfall intensities (sorted):\", Ri)\n",
        "            print(\"In next trial assume no. of pulses that have rainfall excess:\", len(Ri))\n",
        "\n",
        "# Calculate Phi-index\n",
        "calculate_phi_index(N, Ri, Rd, dt)"
      ],
      "metadata": {
        "colab": {
          "base_uri": "https://localhost:8080/"
        },
        "id": "1Ra30aJSWhDl",
        "outputId": "778cacf9-8450-402a-9b30-dc22a6a158a5"
      },
      "execution_count": null,
      "outputs": [
        {
          "output_type": "stream",
          "name": "stdout",
          "text": [
            "Number of pulses: 8\n",
            "Enter time interval of each pulse in hours: 2\n",
            "Enter the value of runoff depth (Rd) in cm: 5.8\n",
            "Enter rainfall intensity in cm/hr for pulse 1: 0.2\n",
            "Enter rainfall intensity in cm/hr for pulse 2: 0.45\n",
            "Enter rainfall intensity in cm/hr for pulse 3: 0.75\n",
            "Enter rainfall intensity in cm/hr for pulse 4: 1.15\n",
            "Enter rainfall intensity in cm/hr for pulse 5: 0.9\n",
            "Enter rainfall intensity in cm/hr for pulse 6: 0.8\n",
            "Enter rainfall intensity in cm/hr for pulse 7: 0.5\n",
            "Enter rainfall intensity in cm/hr for pulse 8: 0.25\n",
            "\n",
            "W-Index calculation\n",
            "Total depth of rainfall = 10.00 cm\n",
            "W-index = 0.26 cm/hr\n",
            "\n",
            "Phi-Index Calculation\n",
            "Trial No: 1\n",
            "Assume that out of 8 pulses, 8 pulses have rainfall excess\n",
            "Duration of excess rainfall = 16.00 hrs\n",
            "Total depth of excess rainfall for trial 1  = 10.00 cm\n",
            "Phi Index for trial 1 = 0.2625 cm/hr\n",
            "Ri (sorted) =  [0.2, 0.25, 0.45, 0.5, 0.75, 0.8, 0.9, 1.15]\n",
            "While loop Ri = [0.2, 0.25, 0.45, 0.5, 0.75, 0.8, 0.9, 1.15]\n",
            "While loop Phi = 0.2625\n",
            "As rainfall intensity {:.2f} cm/hr < {:.2f}, so no contribution towards del Ri[0]\n",
            "Assumption of {} pulses having rainfall excess fails, so remove least r\n",
            "Excess rainfall intensities (sorted): [0.2, 0.25, 0.45, 0.5, 0.75, 0.8, 0.9, 1.15]\n",
            "In next trial assume no. of pulses that have rainfall excess: 8\n",
            "Trial No: 2\n",
            "Assume that out of 8 pulses, 7 pulses have rainfall excess\n",
            "Duration of excess rainfall = 14.00 hrs\n",
            "Total depth of excess rainfall for trial 2  = 9.60 cm\n",
            "Phi Index for trial 2 = 0.2714285714285714 cm/hr\n",
            "Ri (sorted) =  [0.2, 0.25, 0.45, 0.5, 0.75, 0.8, 0.9, 1.15]\n",
            "While loop Ri = [0.2, 0.25, 0.45, 0.5, 0.75, 0.8, 0.9, 1.15]\n",
            "While loop Phi = 0.2714285714285714\n",
            "As rainfall intensity {:.2f} cm/hr < {:.2f}, so no contribution towards del Ri[0]\n",
            "Assumption of {} pulses having rainfall excess fails, so remove least r\n",
            "Excess rainfall intensities (sorted): [0.2, 0.25, 0.45, 0.5, 0.75, 0.8, 0.9, 1.15]\n",
            "In next trial assume no. of pulses that have rainfall excess: 8\n",
            "Trial No: 3\n",
            "Assume that out of 8 pulses, 6 pulses have rainfall excess\n",
            "Duration of excess rainfall = 12.00 hrs\n",
            "Total depth of excess rainfall for trial 3  = 9.10 cm\n",
            "Phi Index for trial 3 = 0.27499999999999997 cm/hr\n",
            "Ri (sorted) =  [0.2, 0.25, 0.45, 0.5, 0.75, 0.8, 0.9, 1.15]\n",
            "While loop Ri = [0.2, 0.25, 0.45, 0.5, 0.75, 0.8, 0.9, 1.15]\n",
            "While loop Phi = 0.27499999999999997\n",
            "As rainfall intensity {:.2f} cm/hr < {:.2f}, so no contribution towards del Ri[0]\n",
            "Assumption of {} pulses having rainfall excess fails, so remove least r\n",
            "Excess rainfall intensities (sorted): [0.2, 0.25, 0.45, 0.5, 0.75, 0.8, 0.9, 1.15]\n",
            "In next trial assume no. of pulses that have rainfall excess: 8\n",
            "Trial No: 4\n",
            "Assume that out of 8 pulses, 5 pulses have rainfall excess\n",
            "Duration of excess rainfall = 10.00 hrs\n",
            "Total depth of excess rainfall for trial 4  = 8.20 cm\n",
            "Phi Index for trial 4 = 0.23999999999999994 cm/hr\n",
            "Ri (sorted) =  [0.2, 0.25, 0.45, 0.5, 0.75, 0.8, 0.9, 1.15]\n",
            "While loop Ri = [0.2, 0.25, 0.45, 0.5, 0.75, 0.8, 0.9, 1.15]\n",
            "While loop Phi = 0.23999999999999994\n",
            "As rainfall intensity {:.2f} cm/hr < {:.2f}, so no contribution towards del Ri[0]\n",
            "Assumption of {} pulses having rainfall excess fails, so remove least r\n",
            "Excess rainfall intensities (sorted): [0.2, 0.25, 0.45, 0.5, 0.75, 0.8, 0.9, 1.15]\n",
            "In next trial assume no. of pulses that have rainfall excess: 8\n",
            "Trial No: 5\n",
            "Assume that out of 8 pulses, 4 pulses have rainfall excess\n",
            "Duration of excess rainfall = 8.00 hrs\n",
            "Total depth of excess rainfall for trial 5  = 7.20 cm\n",
            "Phi Index for trial 5 = 0.17500000000000004 cm/hr\n",
            "Ri (sorted) =  [0.2, 0.25, 0.45, 0.5, 0.75, 0.8, 0.9, 1.15]\n",
            "While loop Ri = [0.2, 0.25, 0.45, 0.5, 0.75, 0.8, 0.9, 1.15]\n",
            "While loop Phi = 0.17500000000000004\n",
            "\n",
            "Final value of Phi-index = 0.18 cm/hr\n"
          ]
        }
      ]
    }
  ]
}
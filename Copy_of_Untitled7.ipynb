{
  "nbformat": 4,
  "nbformat_minor": 0,
  "metadata": {
    "colab": {
      "provenance": []
    },
    "kernelspec": {
      "name": "python3",
      "display_name": "Python 3"
    },
    "language_info": {
      "name": "python"
    }
  },
  "cells": [
    {
      "cell_type": "markdown",
      "source": [
        "NAME:TILAK BHUSHAN FIRODIYA ROLL NO:21CV024 BATCH:B"
      ],
      "metadata": {
        "id": "gQoY6kukA1iG"
      }
    },
    {
      "cell_type": "code",
      "execution_count": null,
      "metadata": {
        "colab": {
          "base_uri": "https://localhost:8080/"
        },
        "id": "8n-eaRPEAfuN",
        "outputId": "ff4394a3-1d7b-4f4d-9a72-49caef191972"
      },
      "outputs": [
        {
          "output_type": "stream",
          "name": "stdout",
          "text": [
            "Enter the value of Bulk Density of soil:18\n",
            "Enter the value of Saturated Density of soil:20\n",
            "Enter the unit Weight of Water:10\n",
            "Enter the value of depth of footing:2\n",
            "Enter the value of water table above footing level:0\n",
            "Enter the value of Water table below the level of footing:0\n",
            "Enter the value of width of footing:3\n",
            "Enter the vaiue of Nq:33\n",
            "Enter the value of N ganna (N):34\n",
            "Submerged Weight of soil is: 10.0\n",
            "CASE A\n",
            "The value of ultimate bearing capacity of soil is: 1068.0\n",
            "The value of Rw is: 0.5\n",
            "The value of Rw1 is: 0.5\n",
            "The value ultimate bearing capacity of soil is: 961.2\n",
            "CASE B\n",
            "The value of ultimate bearing capacity is: 1596.0\n",
            "Enter the value of water table above footing level:3\n",
            " Enter the value of Water table below the level of footing: 0\n",
            "The approximate value of ultimate bearing capacity is: \n",
            "The value of Rw is: 1.0\n",
            "The value of Rw1 is: 0.5\n",
            "The approximate value of ultimate hearing capacity is:  1555.2\n",
            "CASE C\n",
            "Enter the value of depth of water below footing:1\n",
            "The value of ultimate bearing capacity is: 1203.2\n",
            "Enter the value of water table above footing level:3\n",
            "Enter the value of Water table below the level of footing:1\n",
            "The approximate value of ultimate bearing capacity is:\n",
            "The value of Rw is: 1.0\n",
            "The value of Rwl is:  0.6666666666666666\n",
            "the value of ultimate bearing capaciy is: 2493.6\n"
          ]
        }
      ],
      "source": [
        "#Q1:\n",
        "# To Determine the bearing capacity of soil with water table\n",
        "BulkDensity =float(input(\"Enter the value of Bulk Density of soil:\"))\n",
        "SatDensity = float(input(\"Enter the value of Saturated Density of soil:\"))\n",
        "WaterDensity = float(input(\"Enter the unit Weight of Water:\"))\n",
        "Df= float(input(\"Enter the value of depth of footing:\"))\n",
        "Dw = float(input(\"Enter the value of water table above footing level:\"))\n",
        "Dw1= float(input(\"Enter the value of Water table below the level of footing:\"))\n",
        "B = float(input(\"Enter the value of width of footing:\"))\n",
        "Nq= float(input(\"Enter the vaiue of Nq:\"))\n",
        "N= float(input(\"Enter the value of N ganna (N):\"))\n",
        "# Calculate Submerged Density\n",
        "SubDensity = SatDensity - WaterDensity # Calculate the submerged density\n",
        "print (\"Submerged Weight of soil is:\", SubDensity)\n",
        "# The bearing capacity of soil when water table is at ground\n",
        "print (\"CASE A\")\n",
        "qu= (SubDensity* Df*Nq) + (0.5*0.8*B*SubDensity*N)\n",
        "print (\"The value of ultimate bearing capacity of soil is:\", qu)\n",
        "#Approximate calculation of Bearing capacity of soil is.\n",
        "Rw= 0.5 + 0.5*(Dw/B)\n",
        "print (\"The value of Rw is:\", Rw)\n",
        "Rw1 = 0.5 + 0.5*(Dw1/B)\n",
        "print (\"The value of Rw1 is:\", Rw1)\n",
        "qu= (BulkDensity*Df*Nq*Rw) + (0.5*0.8*3*BulkDensity *N*Rw1)\n",
        "print (\"The value ultimate bearing capacity of soil is:\", qu)\n",
        "# Case B\n",
        "print (\"CASE B\")\n",
        "qu= (BulkDensity * Df*Nq) + (0.5*0.8*B*SubDensity*N)\n",
        "print (\"The value of ultimate bearing capacity is:\", qu)\n",
        "Dw = float(input(\"Enter the value of water table above footing level:\"))\n",
        "Dwl = float(input(\" Enter the value of Water table below the level of footing: \"))\n",
        "print (\"The approximate value of ultimate bearing capacity is: \")\n",
        "Rw= 0.5 + 0.5*(Dw/B)\n",
        "print (\"The value of Rw is:\", Rw)\n",
        "Rw1= 0.5 + 0.5* (Dw1/B)\n",
        "print (\"The value of Rw1 is:\", Rw1)\n",
        "qu= (BulkDensity * Df * Nq * Rw) + (0.5*0.8*B*BulkDensity * N *Rw1)\n",
        "print (\"The approximate value of ultimate hearing capacity is: \", qu)\n",
        "# Case C\n",
        "print (\"CASE C\")\n",
        "x = float(input(\"Enter the value of depth of water below footing:\"))\n",
        "# Assuming BulkDensityOfNg is defined elsewhere\n",
        "qu = (BulkDensity*Df*Nq) + (0.5 *0.8* ((BulkDensity*x)+(SubDensity * (B-x))))\n",
        "print (\"The value of ultimate bearing capacity is:\", qu)\n",
        "Dw = float(input(\"Enter the value of water table above footing level:\"))\n",
        "Dw1= float(input(\"Enter the value of Water table below the level of footing:\"))\n",
        "print (\"The approximate value of ultimate bearing capacity is:\")\n",
        "Rw= 0.5 + 0.5*(Dw/B)\n",
        "print (\"The value of Rw is:\", Rw)\n",
        "Rw1 = 0.5 + 0.5*(Dw1/B)\n",
        "print (\"The value of Rwl is: \", Rw1)\n",
        "qu= (BulkDensity * Df * Nq * Rw) + (0.5*0.8*8*BulkDensity*N*Rw1)\n",
        "print (\"the value of ultimate bearing capaciy is:\", qu)\n"
      ]
    },
    {
      "cell_type": "code",
      "source": [
        "#Q2:\n",
        "# To find the ultimate load carring capacity of pile\n",
        "UCS = float(input(\"Enter the value of UCS of soil:\"))\n",
        "Cu = UCS/2\n",
        "B = float(input(\"Enter the value of dimension of pile:\"))\n",
        "l=float(input(\"Enter the length of pile:\"))\n",
        "Alpha = float(input(\"Enter the value of adhesion factor:\"))\n",
        "Nc= float(input(\"The value of Nc: \"))\n",
        "Ab = B*B\n",
        "print (\"the Base area of footing is:\", Ab)\n",
        "As = 4*B*l\n",
        "print (\"The value of chohesion of soil is:\", Cu)\n",
        "Qpu = Cu*Nc*Ab\n",
        "print (\"'Qpu:\", Qpu)\n",
        "Qf = Alpha*Cu*As\n",
        "print (\"Qf:\", Qf)\n",
        "Qu= Qpu + Qf\n",
        "print (\"the value of load carring capacity of pile is (Qu):\", Qu)"
      ],
      "metadata": {
        "colab": {
          "base_uri": "https://localhost:8080/"
        },
        "id": "A1czPDshBtX-",
        "outputId": "6e7167c7-8e0b-4c9b-cca7-de08e0c0195b"
      },
      "execution_count": null,
      "outputs": [
        {
          "output_type": "stream",
          "name": "stdout",
          "text": [
            "Enter the value of UCS of soil:75\n",
            "Enter the value of dimension of pile:0.45\n",
            "Enter the length of pile:15\n",
            "Enter the value of adhesion factor:0.8\n",
            "The value of Nc: 9\n",
            "the Base area of footing is: 0.2025\n",
            "The value of chohesion of soil is: 37.5\n",
            "'Qpu: 68.34375\n",
            "Qf: 810.0\n",
            "the value of load carring capacity of pile is (Qu): 878.34375\n"
          ]
        }
      ]
    },
    {
      "cell_type": "code",
      "source": [
        "# To Determine the bearing capacity of soil with water table\n",
        "BulkDensity = float (input (\"Enter the value of Bulk Density of soil:\"))\n",
        "SatDensity = float (input (\"Enter the value of Saturated Density of soil:\"))\n",
        "WaterDensity = float (input (\"Enter the unit Weight of Water:\"))\n",
        "Df = float (input (\"Enter the value of depth of footing:\"))\n",
        "B = float (input (\"Enter the value of width of footing:\"))\n",
        "Ng = float (input (\"Enter the value of Ng:\"))\n",
        "N_Gamma = float (input (\"Enter the value of N gamma (N):\"))\n",
        "SubDensity = SatDensity - WaterDensity\n",
        "print (\"Submerged Weight of soil is:\", SubDensity)\n",
        "M = int (input(\"Number of data values of Water table above footing level: \"))\n",
        "N = int (input(\"Number of data values of Water table below footing level: \"))\n",
        "Dw = []\n",
        "Dw1 = []\n",
        "for i in range (1, M+1) :\n",
        "  print(\"Enter the value of water table above footing level measured w.r.t.ground (Dw) : \")\n",
        "Depth_Dw = float (input ())\n",
        "Dw. append (Depth_Dw)\n",
        "Rw = 0.5 + 0.5* (Depth_Dw/B)\n",
        "print (\"The value of Rw is:\", Rw)\n",
        "for j in range (1, N+1):\n",
        "  print(\"Enter the value of water table above footing level measured w.r.t.ground (Dw1): \")\n",
        "Depth_Dw1 = float (input())\n",
        "Dw.append (Depth_Dw1)\n",
        "Rw1 = 0.5 + 0.5*(Depth_Dw1/B)\n",
        "print (\"The value of Rw1 is:\", Rw1)\n",
        "qu= (BulkDensity*Df*Nq*Rw) + (0.5*0.8*B*BulkDensity*N_Gamma*Rw1)\n",
        "print(\"'qu: \", qu, \"kN/m^2\")\n"
      ],
      "metadata": {
        "colab": {
          "base_uri": "https://localhost:8080/"
        },
        "id": "bOkY952HCLcF",
        "outputId": "cbc00c56-6ed0-4b4d-ee73-77f74b77736b"
      },
      "execution_count": null,
      "outputs": [
        {
          "output_type": "stream",
          "name": "stdout",
          "text": [
            "Enter the value of Bulk Density of soil:18\n",
            "Enter the value of Saturated Density of soil:20\n",
            "Enter the unit Weight of Water:10\n",
            "Enter the value of depth of footing:2\n",
            "Enter the value of width of footing:3\n",
            "Enter the value of Ng:33\n",
            "Enter the value of N gamma (N):34\n",
            "Submerged Weight of soil is: 10.0\n",
            "Number of data values of Water table above footing level: 3\n",
            "Number of data values of Water table below footing level: 3\n",
            "Enter the value of water table above footing level measured w.r.t.ground (Dw) : \n",
            "Enter the value of water table above footing level measured w.r.t.ground (Dw) : \n",
            "Enter the value of water table above footing level measured w.r.t.ground (Dw) : \n",
            "0\n",
            "The value of Rw is: 0.5\n",
            "Enter the value of water table above footing level measured w.r.t.ground (Dw1): \n",
            "Enter the value of water table above footing level measured w.r.t.ground (Dw1): \n",
            "Enter the value of water table above footing level measured w.r.t.ground (Dw1): \n",
            "1\n",
            "The value of Rw1 is: 0.6666666666666666\n",
            "'qu:  1083.6 kN/m^2\n"
          ]
        }
      ]
    }
  ]
}
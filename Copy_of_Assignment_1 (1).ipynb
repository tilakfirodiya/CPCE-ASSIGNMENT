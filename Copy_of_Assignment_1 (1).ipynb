{
  "nbformat": 4,
  "nbformat_minor": 0,
  "metadata": {
    "colab": {
      "provenance": []
    },
    "kernelspec": {
      "name": "python3",
      "display_name": "Python 3"
    },
    "language_info": {
      "name": "python"
    }
  },
  "cells": [
    {
      "cell_type": "markdown",
      "source": [
        "TILAK BHUSHAN FIRODIYA\n",
        "TE CIVIL A BATCH:B"
      ],
      "metadata": {
        "id": "OZQYLpW_qQop"
      }
    },
    {
      "cell_type": "code",
      "source": [
        "#Q2:\n",
        "# To find the downstream depth of open channel\n",
        "# Given Data\n",
        "Q= float(input(\"Enter the value of Discharge:\"))\n",
        "B1 = float(input(\"Enter the value of width at upstream: \"))\n",
        "B2 = float(input(\"Enter the value of width at downstream: \"))\n",
        "g= float(input(\"Enter the value of acceleration due to Gravity:\"))\n",
        "y1= float(input(\"enter the value of upstream depth:\"))\n",
        "# Dicharge per meter width\n",
        "q1=Q/B1\n",
        "q2=Q/B2\n",
        "print(\"The value of discharge per meter width is:\",q1)\n",
        "print(\"The value of discharge per meter width is:\",q2)\n",
        "# Area Calculation\n",
        "A1 = B1*y1\n",
        "print (\"The value of upstream area is:\", A1)\n",
        "# Calculation of Froude Number\n",
        "Fr1 = ((Q*Q*B1)/(g*A1*A1*A1))**0.5\n",
        "print (\"The value of Froude number is:\", Fr1)\n",
        "if Fr1>1:\n",
        "  print(\"The flow is Super Critical Flow\")\n",
        "else:\n",
        "  print(\"The flow is Sub Critical Flow\")\n",
        "# Upstream Energy\n",
        "E1=y1 + ((Q*Q)/(2*g*A1*A1))\n",
        "print(\"The value of Energy at initial Section is:\",E1)\n",
        "B2min = (27*Q*Q/(8*g*E1*E1*E1))**0.5\n",
        "print(\"The value of minimum width to be kept to avoid Chocking is:\", B2min)\n",
        "if B2min>B2:\n",
        "       print(\"Chocking Condition\")\n",
        "else:\n",
        "  print(\"SAFE\")\n",
        "# Critical Depth\n",
        "yc = ((Q*Q)/(B2*82*g))**0.3333\n",
        "print(\"The Value of critical depth is: \",yc)\n",
        "Ec = 1,5*yc\n",
        "print(\"The value of critical Energy is\",Ec)"
      ],
      "metadata": {
        "colab": {
          "base_uri": "https://localhost:8080/"
        },
        "id": "ZKkWZxx1zHaC",
        "outputId": "4ae109cb-0b54-465c-fe4d-ccb4a62cfc66"
      },
      "execution_count": null,
      "outputs": [
        {
          "output_type": "stream",
          "name": "stdout",
          "text": [
            "Enter the value of Discharge:15\n",
            "Enter the value of width at upstream: 3.5\n",
            "Enter the value of width at downstream: 2.5\n",
            "Enter the value of acceleration due to Gravity:9.81\n",
            "enter the value of upstream depth:2\n",
            "The value of discharge per meter width is: 4.285714285714286\n",
            "The value of discharge per meter width is: 6.0\n",
            "The value of upstream area is: 7.0\n",
            "The value of Froude number is: 0.4837753296275688\n",
            "The flow is Sub Critical Flow\n",
            "The value of Energy at initial Section is: 2.234038569556263\n",
            "The value of minimum width to be kept to avoid Chocking is: 2.634860603070728\n",
            "Chocking Condition\n",
            "The Value of critical depth is:  0.48189408016494045\n",
            "The value of critical Energy is (1, 2.409470400824702)\n"
          ]
        }
      ]
    }
  ]
}